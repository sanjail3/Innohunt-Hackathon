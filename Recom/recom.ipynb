{
 "cells": [
  {
   "cell_type": "code",
   "execution_count": 2,
   "metadata": {},
   "outputs": [],
   "source": []
  },
  {
   "cell_type": "code",
   "execution_count": 4,
   "metadata": {},
   "outputs": [],
   "source": [
    "data = pd.read_csv('A:\\Projects\\InnoHunt\\Recom\\products.csv')"
   ]
  },
  {
   "cell_type": "code",
   "execution_count": 5,
   "metadata": {},
   "outputs": [
    {
     "data": {
      "text/html": [
       "<div>\n",
       "<style scoped>\n",
       "    .dataframe tbody tr th:only-of-type {\n",
       "        vertical-align: middle;\n",
       "    }\n",
       "\n",
       "    .dataframe tbody tr th {\n",
       "        vertical-align: top;\n",
       "    }\n",
       "\n",
       "    .dataframe thead th {\n",
       "        text-align: right;\n",
       "    }\n",
       "</style>\n",
       "<table border=\"1\" class=\"dataframe\">\n",
       "  <thead>\n",
       "    <tr style=\"text-align: right;\">\n",
       "      <th></th>\n",
       "      <th>name</th>\n",
       "      <th>description</th>\n",
       "      <th>slogan</th>\n",
       "    </tr>\n",
       "  </thead>\n",
       "  <tbody>\n",
       "    <tr>\n",
       "      <th>0</th>\n",
       "      <td>Stackradar</td>\n",
       "      <td>Stackradar is a vetted curation of tech tools ...</td>\n",
       "      <td>The best tools on the internet, curated</td>\n",
       "    </tr>\n",
       "    <tr>\n",
       "      <th>1</th>\n",
       "      <td>Braintrust AIR</td>\n",
       "      <td>Braintrust AIR - the first end-to-end AI recru...</td>\n",
       "      <td>The world's first AI recruiter</td>\n",
       "    </tr>\n",
       "    <tr>\n",
       "      <th>2</th>\n",
       "      <td>Robin the Robot</td>\n",
       "      <td>What is Robin the Robot?\\n\\nRobin is a friendl...</td>\n",
       "      <td>Helps children beat loneliness and isolation i...</td>\n",
       "    </tr>\n",
       "    <tr>\n",
       "      <th>3</th>\n",
       "      <td>Sponsor My Society</td>\n",
       "      <td>Connecting university clubs &amp; societies with b...</td>\n",
       "      <td>Connecting university clubs &amp; societies with b...</td>\n",
       "    </tr>\n",
       "    <tr>\n",
       "      <th>4</th>\n",
       "      <td>PictoGraphic</td>\n",
       "      <td>Explore over 40K images and SVG, or craft your...</td>\n",
       "      <td>AI generated illustration library</td>\n",
       "    </tr>\n",
       "  </tbody>\n",
       "</table>\n",
       "</div>"
      ],
      "text/plain": [
       "                 name                                        description  \\\n",
       "0          Stackradar  Stackradar is a vetted curation of tech tools ...   \n",
       "1      Braintrust AIR  Braintrust AIR - the first end-to-end AI recru...   \n",
       "2     Robin the Robot  What is Robin the Robot?\\n\\nRobin is a friendl...   \n",
       "3  Sponsor My Society  Connecting university clubs & societies with b...   \n",
       "4        PictoGraphic  Explore over 40K images and SVG, or craft your...   \n",
       "\n",
       "                                              slogan  \n",
       "0            The best tools on the internet, curated  \n",
       "1                     The world's first AI recruiter  \n",
       "2  Helps children beat loneliness and isolation i...  \n",
       "3  Connecting university clubs & societies with b...  \n",
       "4                  AI generated illustration library  "
      ]
     },
     "execution_count": 5,
     "metadata": {},
     "output_type": "execute_result"
    }
   ],
   "source": [
    "data.head()"
   ]
  },
  {
   "cell_type": "code",
   "execution_count": 6,
   "metadata": {},
   "outputs": [],
   "source": [
    "df = pd.DataFrame(data)"
   ]
  },
  {
   "cell_type": "code",
   "execution_count": 7,
   "metadata": {},
   "outputs": [],
   "source": [
    "df['combined_features'] = df['name'] + \" \" + df['description'] + \" \" + df['slogan']"
   ]
  },
  {
   "cell_type": "code",
   "execution_count": 9,
   "metadata": {},
   "outputs": [
    {
     "data": {
      "text/html": [
       "<div>\n",
       "<style scoped>\n",
       "    .dataframe tbody tr th:only-of-type {\n",
       "        vertical-align: middle;\n",
       "    }\n",
       "\n",
       "    .dataframe tbody tr th {\n",
       "        vertical-align: top;\n",
       "    }\n",
       "\n",
       "    .dataframe thead th {\n",
       "        text-align: right;\n",
       "    }\n",
       "</style>\n",
       "<table border=\"1\" class=\"dataframe\">\n",
       "  <thead>\n",
       "    <tr style=\"text-align: right;\">\n",
       "      <th></th>\n",
       "      <th>name</th>\n",
       "      <th>description</th>\n",
       "      <th>slogan</th>\n",
       "      <th>combined_features</th>\n",
       "    </tr>\n",
       "  </thead>\n",
       "  <tbody>\n",
       "    <tr>\n",
       "      <th>0</th>\n",
       "      <td>Stackradar</td>\n",
       "      <td>Stackradar is a vetted curation of tech tools ...</td>\n",
       "      <td>The best tools on the internet, curated</td>\n",
       "      <td>Stackradar Stackradar is a vetted curation of ...</td>\n",
       "    </tr>\n",
       "    <tr>\n",
       "      <th>1</th>\n",
       "      <td>Braintrust AIR</td>\n",
       "      <td>Braintrust AIR - the first end-to-end AI recru...</td>\n",
       "      <td>The world's first AI recruiter</td>\n",
       "      <td>Braintrust AIR Braintrust AIR - the first end-...</td>\n",
       "    </tr>\n",
       "    <tr>\n",
       "      <th>2</th>\n",
       "      <td>Robin the Robot</td>\n",
       "      <td>What is Robin the Robot?\\n\\nRobin is a friendl...</td>\n",
       "      <td>Helps children beat loneliness and isolation i...</td>\n",
       "      <td>Robin the Robot What is Robin the Robot?\\n\\nRo...</td>\n",
       "    </tr>\n",
       "    <tr>\n",
       "      <th>3</th>\n",
       "      <td>Sponsor My Society</td>\n",
       "      <td>Connecting university clubs &amp; societies with b...</td>\n",
       "      <td>Connecting university clubs &amp; societies with b...</td>\n",
       "      <td>Sponsor My Society Connecting university clubs...</td>\n",
       "    </tr>\n",
       "    <tr>\n",
       "      <th>4</th>\n",
       "      <td>PictoGraphic</td>\n",
       "      <td>Explore over 40K images and SVG, or craft your...</td>\n",
       "      <td>AI generated illustration library</td>\n",
       "      <td>PictoGraphic Explore over 40K images and SVG, ...</td>\n",
       "    </tr>\n",
       "    <tr>\n",
       "      <th>5</th>\n",
       "      <td>Supabase</td>\n",
       "      <td>After a 4 year beta period, Supabase is now Ge...</td>\n",
       "      <td>The Postgres developer platform is now general...</td>\n",
       "      <td>Supabase After a 4 year beta period, Supabase ...</td>\n",
       "    </tr>\n",
       "    <tr>\n",
       "      <th>6</th>\n",
       "      <td>Mindtrip</td>\n",
       "      <td>Mindtrip is a travel platform that combines co...</td>\n",
       "      <td>AI platform for travel, personalized to you</td>\n",
       "      <td>Mindtrip Mindtrip is a travel platform that co...</td>\n",
       "    </tr>\n",
       "  </tbody>\n",
       "</table>\n",
       "</div>"
      ],
      "text/plain": [
       "                 name                                        description  \\\n",
       "0          Stackradar  Stackradar is a vetted curation of tech tools ...   \n",
       "1      Braintrust AIR  Braintrust AIR - the first end-to-end AI recru...   \n",
       "2     Robin the Robot  What is Robin the Robot?\\n\\nRobin is a friendl...   \n",
       "3  Sponsor My Society  Connecting university clubs & societies with b...   \n",
       "4        PictoGraphic  Explore over 40K images and SVG, or craft your...   \n",
       "5            Supabase  After a 4 year beta period, Supabase is now Ge...   \n",
       "6            Mindtrip  Mindtrip is a travel platform that combines co...   \n",
       "\n",
       "                                              slogan  \\\n",
       "0            The best tools on the internet, curated   \n",
       "1                     The world's first AI recruiter   \n",
       "2  Helps children beat loneliness and isolation i...   \n",
       "3  Connecting university clubs & societies with b...   \n",
       "4                  AI generated illustration library   \n",
       "5  The Postgres developer platform is now general...   \n",
       "6        AI platform for travel, personalized to you   \n",
       "\n",
       "                                   combined_features  \n",
       "0  Stackradar Stackradar is a vetted curation of ...  \n",
       "1  Braintrust AIR Braintrust AIR - the first end-...  \n",
       "2  Robin the Robot What is Robin the Robot?\\n\\nRo...  \n",
       "3  Sponsor My Society Connecting university clubs...  \n",
       "4  PictoGraphic Explore over 40K images and SVG, ...  \n",
       "5  Supabase After a 4 year beta period, Supabase ...  \n",
       "6  Mindtrip Mindtrip is a travel platform that co...  "
      ]
     },
     "execution_count": 9,
     "metadata": {},
     "output_type": "execute_result"
    }
   ],
   "source": [
    "df"
   ]
  },
  {
   "cell_type": "code",
   "execution_count": 10,
   "metadata": {},
   "outputs": [
    {
     "name": "stdout",
     "output_type": "stream",
     "text": [
      "(7, 122)\n"
     ]
    }
   ],
   "source": [
    "tfidf = TfidfVectorizer(stop_words='english')\n",
    "tfidf_matrix = tfidf.fit_transform(df['combined_features'])\n",
    "print(tfidf_matrix.shape)"
   ]
  },
  {
   "cell_type": "code",
   "execution_count": 11,
   "metadata": {},
   "outputs": [
    {
     "name": "stdout",
     "output_type": "stream",
     "text": [
      "[[1.         0.         0.         0.         0.         0.\n",
      "  0.        ]\n",
      " [0.         1.         0.         0.         0.04158929 0.\n",
      "  0.07510896]\n",
      " [0.         0.         1.         0.         0.         0.\n",
      "  0.        ]\n",
      " [0.         0.         0.         1.         0.         0.\n",
      "  0.        ]\n",
      " [0.         0.04158929 0.         0.         1.         0.01438451\n",
      "  0.05864403]\n",
      " [0.         0.         0.         0.         0.01438451 1.\n",
      "  0.02597798]\n",
      " [0.         0.07510896 0.         0.         0.05864403 0.02597798\n",
      "  1.        ]]\n"
     ]
    }
   ],
   "source": [
    "cosine_sim = linear_kernel(tfidf_matrix, tfidf_matrix)\n",
    "print(cosine_sim)\n"
   ]
  },
  {
   "cell_type": "code",
   "execution_count": 13,
   "metadata": {},
   "outputs": [
    {
     "name": "stdout",
     "output_type": "stream",
     "text": [
      "6              Mindtrip\n",
      "4          PictoGraphic\n",
      "0            Stackradar\n",
      "2       Robin the Robot\n",
      "3    Sponsor My Society\n",
      "Name: name, dtype: object\n"
     ]
    }
   ],
   "source": [
    "def get_recommendations(name, cosine_sim=cosine_sim):\n",
    "    # Get the index of the item that matches the name\n",
    "    idx = df.index[df['name'] == name].tolist()[0]\n",
    "\n",
    "    # Get the pairwise similarity scores of all items with that item\n",
    "    sim_scores = list(enumerate(cosine_sim[idx]))\n",
    "\n",
    "    # Sort the items based on similarity scores\n",
    "    sim_scores = sorted(sim_scores, key=lambda x: x[1], reverse=True)\n",
    "\n",
    "    # Get the scores of the 5 most similar items\n",
    "    sim_scores = sim_scores[1:6]\n",
    "\n",
    "    # Get the item indices\n",
    "    item_indices = [i[0] for i in sim_scores]\n",
    "\n",
    "    # Return the top 5 most similar items\n",
    "    return df['name'].iloc[item_indices]\n",
    "\n",
    "# Example usage\n",
    "print(get_recommendations('Braintrust AIR'))\n"
   ]
  },
  {
   "cell_type": "code",
   "execution_count": null,
   "metadata": {},
   "outputs": [],
   "source": []
  }
 ],
 "metadata": {
  "language_info": {
   "name": "python"
  }
 },
 "nbformat": 4,
 "nbformat_minor": 2
}
